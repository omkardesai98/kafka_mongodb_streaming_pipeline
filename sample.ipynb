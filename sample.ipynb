{
 "cells": [
  {
   "cell_type": "code",
   "execution_count": 3,
   "metadata": {},
   "outputs": [],
   "source": [
    "import pandas as pd # type: ignore\n",
    "\n",
    "logistic_data = pd.read_csv('delivery_trip_truck_data.csv')"
   ]
  },
  {
   "cell_type": "code",
   "execution_count": 5,
   "metadata": {},
   "outputs": [
    {
     "name": "stdout",
     "output_type": "stream",
     "text": [
      "{'GpsProvider': 'CONSENT TRACK', 'BookingID': 'MVCV0000927/082021', 'Market_Regular': 'Market', 'BookingID_Date': '8/17/2020', 'vehicle_no': 'KA590408', 'Origin_Location': 'TVSLSL-PUZHAL-HUB,CHENNAI,TAMIL NADU', 'Destination_Location': 'ASHOK LEYLAND PLANT 1- HOSUR,HOSUR,KARNATAKA', 'Org_lat_lon': '13.1550,80.1960', 'Des_lat_lon': '12.7400,77.8200', 'Data_Ping_time': '05:09.0', 'Planned_ETA': '59:01.0', 'Current_Location': 'Vaniyambadi Rd, Valayambattu, Tamil Nadu 635752, India', 'DestinationLocation': 'ASHOK LEYLAND PLANT 1- HOSUR,HOSUR,KARNATAKA', 'actual_eta': '8/28/2020 14:38', 'Curr_lat': '12.6635', 'Curr_lon': '78.64987', 'ontime': 'nan', 'delay': 'R', 'OriginLocation_Code': 'CHEPUZTVSHUA1', 'DestinationLocation_Code': 'HOSHOSALLCCA2', 'trip_start_date': '8/17/2020 14:59', 'trip_end_date': 'nan', 'TRANSPORTATION_DISTANCE_IN_KM': '320.0', 'vehicleType': 'nan', 'Minimum_kms_to_be_covered_in_a_day': 'nan', 'Driver_Name': 'nan', 'Driver_MobileNo': 'nan', 'customerID': 'ALLEXCHE45', 'customerNameCode': 'Ashok leyland limited', 'supplierID': 'VIJEXHOSR7', 'supplierNameCode': 'VIJAY TRANSPORT', 'Material_Shipped': 'BRACKET / GRAB HANDLE'}\n"
     ]
    }
   ],
   "source": [
    "logistic_data = pd.read_csv('delivery_trip_truck_data.csv')\n",
    "\n",
    "for index, value in logistic_data.iterrows():\n",
    "    value = value.to_dict()\n",
    "    new_value = {key:str(value) for key ,value in value.items()}\n",
    "\n",
    "    print(new_value)\n",
    "    break\n",
    "    "
   ]
  },
  {
   "cell_type": "code",
   "execution_count": 20,
   "metadata": {},
   "outputs": [
    {
     "data": {
      "text/html": [
       "<div>\n",
       "<style scoped>\n",
       "    .dataframe tbody tr th:only-of-type {\n",
       "        vertical-align: middle;\n",
       "    }\n",
       "\n",
       "    .dataframe tbody tr th {\n",
       "        vertical-align: top;\n",
       "    }\n",
       "\n",
       "    .dataframe thead th {\n",
       "        text-align: right;\n",
       "    }\n",
       "</style>\n",
       "<table border=\"1\" class=\"dataframe\">\n",
       "  <thead>\n",
       "    <tr style=\"text-align: right;\">\n",
       "      <th></th>\n",
       "      <th>GpsProvider</th>\n",
       "      <th>BookingID</th>\n",
       "      <th>Market/Regular</th>\n",
       "      <th>BookingID_Date</th>\n",
       "      <th>vehicle_no</th>\n",
       "      <th>Origin_Location</th>\n",
       "      <th>Destination_Location</th>\n",
       "      <th>Org_lat_lon</th>\n",
       "      <th>Des_lat_lon</th>\n",
       "      <th>Data_Ping_time</th>\n",
       "      <th>...</th>\n",
       "      <th>TRANSPORTATION_DISTANCE_IN_KM</th>\n",
       "      <th>vehicleType</th>\n",
       "      <th>Minimum_kms_to_be_covered_in_a_day</th>\n",
       "      <th>Driver_Name</th>\n",
       "      <th>Driver_MobileNo</th>\n",
       "      <th>customerID</th>\n",
       "      <th>customerNameCode</th>\n",
       "      <th>supplierID</th>\n",
       "      <th>supplierNameCode</th>\n",
       "      <th>Material Shipped</th>\n",
       "    </tr>\n",
       "  </thead>\n",
       "  <tbody>\n",
       "    <tr>\n",
       "      <th>1</th>\n",
       "      <td>VAMOSYS</td>\n",
       "      <td>VCV00014271/082021</td>\n",
       "      <td>Regular</td>\n",
       "      <td>8/27/2020</td>\n",
       "      <td>TN30BC5917</td>\n",
       "      <td>DAIMLER INDIA COMMERCIAL VEHICLES,KANCHIPURAM,...</td>\n",
       "      <td>DAIMLER INDIA COMMERCIAL VEHICLES,KANCHIPURAM,...</td>\n",
       "      <td>12.8390,79.9540</td>\n",
       "      <td>12.8390,79.9540</td>\n",
       "      <td>40:28.0</td>\n",
       "      <td>...</td>\n",
       "      <td>103.0</td>\n",
       "      <td>NaN</td>\n",
       "      <td>NaN</td>\n",
       "      <td>RAMESH</td>\n",
       "      <td>NaN</td>\n",
       "      <td>DMREXCHEUX</td>\n",
       "      <td>Daimler india commercial vehicles pvt lt</td>\n",
       "      <td>VJLEXSHE09</td>\n",
       "      <td>VJ LOGISTICS</td>\n",
       "      <td>ZB MODEL PLATE / 3143</td>\n",
       "    </tr>\n",
       "  </tbody>\n",
       "</table>\n",
       "<p>1 rows × 32 columns</p>\n",
       "</div>"
      ],
      "text/plain": [
       "  GpsProvider           BookingID Market/Regular  BookingID_Date  vehicle_no  \\\n",
       "1     VAMOSYS  VCV00014271/082021         Regular      8/27/2020  TN30BC5917   \n",
       "\n",
       "                                     Origin_Location  \\\n",
       "1  DAIMLER INDIA COMMERCIAL VEHICLES,KANCHIPURAM,...   \n",
       "\n",
       "                                Destination_Location      Org_lat_lon  \\\n",
       "1  DAIMLER INDIA COMMERCIAL VEHICLES,KANCHIPURAM,...  12.8390,79.9540   \n",
       "\n",
       "       Des_lat_lon Data_Ping_time  ... TRANSPORTATION_DISTANCE_IN_KM  \\\n",
       "1  12.8390,79.9540        40:28.0  ...                         103.0   \n",
       "\n",
       "  vehicleType Minimum_kms_to_be_covered_in_a_day Driver_Name  Driver_MobileNo  \\\n",
       "1         NaN                                NaN      RAMESH              NaN   \n",
       "\n",
       "   customerID                          customerNameCode  supplierID  \\\n",
       "1  DMREXCHEUX  Daimler india commercial vehicles pvt lt  VJLEXSHE09   \n",
       "\n",
       "  supplierNameCode       Material Shipped  \n",
       "1     VJ LOGISTICS  ZB MODEL PLATE / 3143  \n",
       "\n",
       "[1 rows x 32 columns]"
      ]
     },
     "execution_count": 20,
     "metadata": {},
     "output_type": "execute_result"
    }
   ],
   "source": [
    "logistic_data.iloc[1:2,:]"
   ]
  },
  {
   "cell_type": "code",
   "execution_count": null,
   "metadata": {},
   "outputs": [],
   "source": []
  }
 ],
 "metadata": {
  "kernelspec": {
   "display_name": "Python 3",
   "language": "python",
   "name": "python3"
  },
  "language_info": {
   "codemirror_mode": {
    "name": "ipython",
    "version": 3
   },
   "file_extension": ".py",
   "mimetype": "text/x-python",
   "name": "python",
   "nbconvert_exporter": "python",
   "pygments_lexer": "ipython3",
   "version": "3.12.0"
  }
 },
 "nbformat": 4,
 "nbformat_minor": 2
}
